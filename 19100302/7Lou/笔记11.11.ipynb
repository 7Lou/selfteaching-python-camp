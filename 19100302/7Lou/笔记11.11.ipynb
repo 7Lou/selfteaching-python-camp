{
 "cells": [
  {
   "cell_type": "code",
   "execution_count": null,
   "metadata": {},
   "outputs": [],
   "source": [
    "1.切换目录命令：cd ，如 shiningdeAir:hello-world shining$ cd /Users/shining/Documents/GitHub/selfteaching-python-camp/19100302/7Lou/\n",
    "                     shiningdeAir:7Lou shining$ \n",
    "2.创建文件命令：touch ，如 shiningdeAir:7Lou shining$ touch 笔记.txt\n",
    "\n",
    "3.网页上把所需仓库Fork到自己账户>>> 通过GitHub Desktop把仓库克隆(clone)>>>本地电脑;\n",
    "  本地电脑编辑文件>>>通过GitHub Desktop提交commit>>>通过GitHub Desktop变更推送(push)>>>自己账户仓库>>>向master分支发起Pull Request\n",
    "  \n",
    "4.直接在终端里输入Jupyter Notebook，Jupyter Lab启动Jupyter Notebook，Jupyter Lab。"
   ]
  },
  {
   "cell_type": "code",
   "execution_count": null,
   "metadata": {},
   "outputs": [],
   "source": [
    "5.print函数默认是换行的，如果不需回车，只需在print 语句的结尾添加一个逗号,并设置分隔符参数end，就可以改变它的行为。如："
   ]
  },
  {
   "cell_type": "code",
   "execution_count": null,
   "metadata": {},
   "outputs": [],
   "source": [
    "a, b = 0, 1\n",
    "while a < 1000:\n",
    "    print(a)\n",
    "    a, b = b, a+b"
   ]
  },
  {
   "cell_type": "code",
   "execution_count": null,
   "metadata": {},
   "outputs": [],
   "source": [
    "a, b = 0, 1\n",
    "while a < 1000:\n",
    "    print(a, end='')\n",
    "    a, b = b, a+b"
   ]
  },
  {
   "cell_type": "code",
   "execution_count": null,
   "metadata": {},
   "outputs": [],
   "source": [
    "a, b = 0, 1\n",
    "while a < 1000:\n",
    "    print(a, end=' ')\n",
    "    a, b = b, a+b"
   ]
  },
  {
   "cell_type": "code",
   "execution_count": null,
   "metadata": {},
   "outputs": [],
   "source": [
    "6.print函数可以输入多个参数，用,隔开。如："
   ]
  },
  {
   "cell_type": "code",
   "execution_count": null,
   "metadata": {},
   "outputs": [],
   "source": [
    "i = 256*256\n",
    "print('The value of i is', i)"
   ]
  }
 ],
 "metadata": {
  "kernelspec": {
   "display_name": "Python 3",
   "language": "python",
   "name": "python3"
  },
  "language_info": {
   "codemirror_mode": {
    "name": "ipython",
    "version": 3
   },
   "file_extension": ".py",
   "mimetype": "text/x-python",
   "name": "python",
   "nbconvert_exporter": "python",
   "pygments_lexer": "ipython3",
   "version": "3.6.5"
  }
 },
 "nbformat": 4,
 "nbformat_minor": 2
}
