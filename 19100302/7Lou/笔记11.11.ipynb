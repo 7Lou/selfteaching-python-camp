{
 "cells": [
  {
   "cell_type": "code",
   "execution_count": null,
   "metadata": {},
   "outputs": [],
   "source": [
    "1.切换目录命令：cd ，如 shiningdeAir:hello-world shining$ cd /Users/shining/Documents/GitHub/selfteaching-python-camp/19100302/7Lou/\n",
    "                     shiningdeAir:7Lou shining$ \n",
    "2.创建文件命令：touch ，如 shiningdeAir:7Lou shining$ touch 笔记.txt\n",
    "\n",
    "3.网页上把所需仓库Fork到自己账户>>> 通过GitHub Desktop把仓库克隆(clone)>>>本地电脑;\n",
    "  本地电脑编辑文件>>>通过GitHub Desktop提交commit>>>通过GitHub Desktop变更推送(push)>>>自己账户仓库>>>向master分支发起Pull Request\n",
    "  \n",
    "4.直接在终端里输入Jupyter Notebook，Jupyter Lab启动Jupyter Notebook，Jupyter Lab。"
   ]
  },
  {
   "cell_type": "code",
   "execution_count": null,
   "metadata": {},
   "outputs": [],
   "source": [
    "5.print函数默认是换行的，如果不需回车，只需在print 语句的结尾添加一个逗号,并设置分隔符参数end，就可以改变它的行为。如："
   ]
  },
  {
   "cell_type": "code",
   "execution_count": null,
   "metadata": {},
   "outputs": [],
   "source": [
    "a, b = 0, 1\n",
    "while a < 1000:\n",
    "    print(a)\n",
    "    a, b = b, a+b"
   ]
  },
  {
   "cell_type": "code",
   "execution_count": null,
   "metadata": {},
   "outputs": [],
   "source": [
    "a, b = 0, 1\n",
    "while a < 1000:\n",
    "    print(a, end='')\n",
    "    a, b = b, a+b"
   ]
  },
  {
   "cell_type": "code",
   "execution_count": null,
   "metadata": {},
   "outputs": [],
   "source": [
    "a, b = 0, 1\n",
    "while a < 1000:\n",
    "    print(a, end=' ')\n",
    "    a, b = b, a+b"
   ]
  },
  {
   "cell_type": "code",
   "execution_count": null,
   "metadata": {},
   "outputs": [],
   "source": [
    "6.print函数可以输入多个参数，用,隔开。如："
   ]
  },
  {
   "cell_type": "code",
   "execution_count": null,
   "metadata": {},
   "outputs": [],
   "source": [
    "i = 256*256\n",
    "print('The value of i is', i)"
   ]
  },
  {
   "cell_type": "code",
   "execution_count": null,
   "metadata": {},
   "outputs": [],
   "source": [
    "7.函数注释和查看。如："
   ]
  },
  {
   "cell_type": "code",
   "execution_count": null,
   "metadata": {},
   "outputs": [],
   "source": [
    "def my_function():\n",
    "    \"\"\"Do nothing, but document it.\n",
    "    \n",
    "    No, really, it doesn't do anything.\n",
    "    \"\"\"\n",
    "pass\n",
    "\n",
    "print(my_function.__doc__)\n",
    "print(help.__doc__)"
   ]
  },
  {
   "cell_type": "code",
   "execution_count": null,
   "metadata": {},
   "outputs": [],
   "source": [
    "8.字典排序之采用d.items()排序，得到包含键，值的元组的列表；这里对排序的规则进行了定义，x指元组，x[1]是值，x[0]是键；reverse=True为降序，如："
   ]
  },
  {
   "cell_type": "code",
   "execution_count": null,
   "metadata": {},
   "outputs": [],
   "source": [
    "dict1={'a':2,'e':3,'f':8,'d':4}\n",
    "list1= sorted(dict1.items(),key=lambda x:x[1],reverse=True)\n",
    "print(list1)"
   ]
  },
  {
   "cell_type": "code",
   "execution_count": null,
   "metadata": {},
   "outputs": [],
   "source": [
    "9.常见Unicode编码范围：\n",
    "汉字：[0x4e00,0x9fa5]（或十进制[19968,40869]）\n",
    "数字：[0x30,0x39]（或十进制[48, 57]）\n",
    "小写字母：[0x61,0x7a]（或十进制[97, 122]）\n",
    "大写字母：[0x41,0x5a]（或十进制[65, 90]）\n",
    "其他：除上所有"
   ]
  }
 ],
 "metadata": {
  "kernelspec": {
   "display_name": "Python 3",
   "language": "python",
   "name": "python3"
  },
  "language_info": {
   "codemirror_mode": {
    "name": "ipython",
    "version": 3
   },
   "file_extension": ".py",
   "mimetype": "text/x-python",
   "name": "python",
   "nbconvert_exporter": "python",
   "pygments_lexer": "ipython3",
   "version": "3.6.5"
  }
 },
 "nbformat": 4,
 "nbformat_minor": 2
}
